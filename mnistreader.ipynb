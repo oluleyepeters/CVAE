{
 "cells": [
  {
   "cell_type": "code",
   "execution_count": 1,
   "id": "b60da683-4786-4a92-b49c-ee57a7c1816a",
   "metadata": {},
   "outputs": [],
   "source": [
    "import random\n",
    "\n",
    "def get_training_samples(batch_size):\n",
    "    with open(\"train.csv\") as file:\n",
    "        text = file.read()\n",
    "    textlines = text.strip().split(\"\\n\")\n",
    "    random.shuffle(textlines)\n",
    "    start = 0\n",
    "    while start < len(textlines):\n",
    "        labels = []\n",
    "        targets = []\n",
    "        inputs = []\n",
    "        end = start + batch_size\n",
    "        for textline in textlines[start:end]:\n",
    "            cells = textline.split(\",\")\n",
    "            labels.append(int(cells[0]))\n",
    "            targets.append([float(c) for c in cells[1:11]])\n",
    "            inputs.append([float(c) for c in cells[11:]])\n",
    "        yield labels, targets, inputs\n",
    "        start += batch_size\n",
    "\n",
    "def get_test_samples():\n",
    "    with open(\"test.csv\", \"r\") as file:\n",
    "        text = file.read()\n",
    "    textlines = text.strip().split(\"\\n\")\n",
    "    labels = []\n",
    "    targets = []\n",
    "    inputs = []\n",
    "    for textline in textlines:\n",
    "        cells = textline.split(\",\")\n",
    "        value = int(cells[0])\n",
    "        labels.append(int(cells[0]))\n",
    "        targets.append([float(c) for c in cells[1:11]])\n",
    "        inputs.append([float(c) for c in cells[11:]])\n",
    "    return labels, targets, inputs\n",
    "\n",
    "def plot_number(inputs):\n",
    "    line = \"\"\n",
    "    for p in inputs:\n",
    "        line += \".░▒▓█\"[round(p * 4)]\n",
    "        if len(line) > 27:\n",
    "            print(line)\n",
    "            line = \"\""
   ]
  },
  {
   "cell_type": "code",
   "execution_count": null,
   "id": "e0d737cb-5a72-4315-8458-cc2046235c7b",
   "metadata": {},
   "outputs": [],
   "source": []
  }
 ],
 "metadata": {
  "kernelspec": {
   "display_name": "Python 3 (ipykernel)",
   "language": "python",
   "name": "python3"
  },
  "language_info": {
   "codemirror_mode": {
    "name": "ipython",
    "version": 3
   },
   "file_extension": ".py",
   "mimetype": "text/x-python",
   "name": "python",
   "nbconvert_exporter": "python",
   "pygments_lexer": "ipython3",
   "version": "3.11.3"
  }
 },
 "nbformat": 4,
 "nbformat_minor": 5
}
